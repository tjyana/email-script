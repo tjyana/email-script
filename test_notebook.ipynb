{
 "cells": [
  {
   "cell_type": "code",
   "execution_count": null,
   "metadata": {},
   "outputs": [],
   "source": [
    "import smtplib\n",
    "from email.mime.multipart import MIMEMultipart\n",
    "from email.mime.text import MIMEText\n",
    "import schedule\n",
    "import time\n"
   ]
  },
  {
   "cell_type": "code",
   "execution_count": null,
   "metadata": {},
   "outputs": [],
   "source": [
    "# Configuration\n",
    "SMTP_SERVER = 'smtp.gmail.com'  # e.g., 'smtp.gmail.com' for Gmail\n",
    "SMTP_PORT = 587  # Typically 587 for TLS, 465 for SSL\n",
    "EMAIL_ADDRESS = 'REDACTED'\n",
    "EMAIL_PASSWORD = 'REDACTED'\n",
    "\n",
    "TO_ADDRESS = 'REDACATED'\n",
    "SUBJECT = 'Daily Report'\n"
   ]
  },
  {
   "cell_type": "code",
   "execution_count": null,
   "metadata": {},
   "outputs": [],
   "source": [
    "def get_daily_report():\n",
    "    # Replace this function with actual report generation logic\n",
    "    return \"Here is your daily report.\"\n"
   ]
  },
  {
   "cell_type": "code",
   "execution_count": null,
   "metadata": {},
   "outputs": [],
   "source": [
    "def send_email(subject, body, to_address):\n",
    "    # Create the email message\n",
    "    msg = MIMEMultipart()\n",
    "    msg['From'] = EMAIL_ADDRESS\n",
    "    msg['To'] = to_address\n",
    "    msg['Subject'] = subject\n",
    "\n",
    "    # Attach the email body to the message\n",
    "    msg.attach(MIMEText(body, 'plain'))\n",
    "\n",
    "    try:\n",
    "        # Connect to the SMTP server\n",
    "        with smtplib.SMTP(SMTP_SERVER, SMTP_PORT) as server:\n",
    "            server.starttls()  # Upgrade the connection to a secure encrypted SSL/TLS connection\n",
    "            server.login(EMAIL_ADDRESS, EMAIL_PASSWORD)  # Log in to the email account\n",
    "            server.sendmail(EMAIL_ADDRESS, to_address, msg.as_string())  # Send the email\n",
    "        print('Email sent successfully')\n",
    "    except Exception as e:\n",
    "        print(f'Failed to send email: {e}')\n"
   ]
  },
  {
   "cell_type": "code",
   "execution_count": null,
   "metadata": {},
   "outputs": [],
   "source": [
    "def job():\n",
    "    report = get_daily_report()  # Generate the report\n",
    "    send_email(SUBJECT, report, TO_ADDRESS)  # Send the email\n"
   ]
  },
  {
   "cell_type": "code",
   "execution_count": null,
   "metadata": {},
   "outputs": [],
   "source": [
    "send_email(SUBJECT, report, TO_ADDRESS)"
   ]
  },
  {
   "cell_type": "code",
   "execution_count": null,
   "metadata": {},
   "outputs": [],
   "source": [
    "# Schedule the job every day at a specific time (e.g., 8:00 AM)\n",
    "schedule.every().day.at(\"08:00\").do(job)\n"
   ]
  },
  {
   "cell_type": "code",
   "execution_count": null,
   "metadata": {},
   "outputs": [],
   "source": [
    "# Keep the script running\n",
    "while True:\n",
    "    schedule.run_pending()\n",
    "    time.sleep(1)\n"
   ]
  }
 ],
 "metadata": {
  "language_info": {
   "name": "python"
  }
 },
 "nbformat": 4,
 "nbformat_minor": 2
}
